{
 "cells": [
  {
   "cell_type": "code",
   "execution_count": 3,
   "metadata": {},
   "outputs": [
    {
     "name": "stdout",
     "output_type": "stream",
     "text": [
      "Hello from function call\n",
      "Hello\n"
     ]
    }
   ],
   "source": [
    "def my_func():\n",
    "    print(\"Hello from function call\")\n",
    "my_func()\n",
    "print(\"Hello\")"
   ]
  },
  {
   "cell_type": "code",
   "execution_count": 4,
   "metadata": {},
   "outputs": [
    {
     "name": "stdout",
     "output_type": "stream",
     "text": [
      "Hello from function call\n",
      "Sum of a and b is :  17\n",
      "Hello\n"
     ]
    }
   ],
   "source": [
    "def my_func(a,b):\n",
    "    print(\"Hello from function call\")\n",
    "    print(\"Sum of a and b is : \",a+b)\n",
    "my_func(10,7)\n",
    "print(\"Hello\")"
   ]
  },
  {
   "cell_type": "code",
   "execution_count": 5,
   "metadata": {},
   "outputs": [
    {
     "name": "stdout",
     "output_type": "stream",
     "text": [
      "Hello from function call\n",
      "Sum of a and b is :  78\n",
      "Hello\n"
     ]
    }
   ],
   "source": [
    "def my_func(a,b):\n",
    "    print(\"Hello from function call\")\n",
    "    print(\"Sum of a and b is : \",a+b)\n",
    "x=70\n",
    "y=8\n",
    "my_func(x,y)\n",
    "print(\"Hello\")"
   ]
  },
  {
   "cell_type": "code",
   "execution_count": 8,
   "metadata": {},
   "outputs": [
    {
     "name": "stdout",
     "output_type": "stream",
     "text": [
      "Hello from function call\n",
      "Sum of a and b is :  1020\n",
      "Hello\n"
     ]
    }
   ],
   "source": [
    "def my_func(a,b):\n",
    "    print(\"Hello from function call\") \n",
    "    print(\"Sum of a and b is : \",a+b)\n",
    "x=input(\"Enter a's value: \") #10\n",
    "y=input(\"Enter b's value: \") #20\n",
    "my_func(x,y) #1020\n",
    "print(\"Hello\")"
   ]
  },
  {
   "cell_type": "code",
   "execution_count": 9,
   "metadata": {},
   "outputs": [
    {
     "name": "stdout",
     "output_type": "stream",
     "text": [
      "Hello from function call\n",
      "Sum of a and b is :  30\n",
      "Hello\n"
     ]
    }
   ],
   "source": [
    "def my_func(a,b):\n",
    "    print(\"Hello from function call\") \n",
    "    print(\"Sum of a and b is : \",a+b)\n",
    "x=int(input(\"Enter a's value: \")) #10\n",
    "y=int(input(\"Enter b's value: \")) #20\n",
    "my_func(x,y) #30\n",
    "print(\"Hello\")"
   ]
  },
  {
   "cell_type": "code",
   "execution_count": 10,
   "metadata": {},
   "outputs": [
    {
     "name": "stdout",
     "output_type": "stream",
     "text": [
      "Hello from function call\n",
      "30\n"
     ]
    }
   ],
   "source": [
    "def my_func(a,b):\n",
    "    print(\"Hello from function call\")\n",
    "    return a+b\n",
    "x=int(input(\"Enter a's value: \")) #10\n",
    "y=int(input(\"Enter b's value: \")) #20\n",
    "val=my_func(x,y) #30\n",
    "print(val)"
   ]
  },
  {
   "cell_type": "code",
   "execution_count": 13,
   "metadata": {},
   "outputs": [
    {
     "name": "stdout",
     "output_type": "stream",
     "text": [
      "The youngest kid is Linus\n"
     ]
    }
   ],
   "source": [
    "#You can also send arguments with the key = value syntax.\n",
    "#This way the order of the arguments does not matter.\n",
    "\n",
    "def my_function(child3, child2, child1):\n",
    "  print(\"The youngest kid is\", child3)\n",
    "\n",
    "my_function(child1 = \"Emil\", child2 = \"Tobias\", child3 = \"Linus\")\n"
   ]
  },
  {
   "cell_type": "code",
   "execution_count": 16,
   "metadata": {},
   "outputs": [
    {
     "name": "stdout",
     "output_type": "stream",
     "text": [
      "30\n",
      "\n",
      "    This will take two parameter\n",
      "    Return value is integer\n",
      "    \n",
      "Help on function Add in module __main__:\n",
      "\n",
      "Add(a, b)\n",
      "    This will take two parameter\n",
      "    Return value is integer\n",
      "\n",
      "None\n"
     ]
    }
   ],
   "source": [
    "def Add(a, b):\n",
    "    '''\n",
    "    This will take two parameter\n",
    "    Return value is integer\n",
    "    '''\n",
    "    return a + b\n",
    "\n",
    "\n",
    "print(Add(10, 20))\n",
    "print(Add.__doc__)\n",
    "print(help(Add))"
   ]
  },
  {
   "cell_type": "code",
   "execution_count": 18,
   "metadata": {},
   "outputs": [
    {
     "name": "stdout",
     "output_type": "stream",
     "text": [
      "15\n"
     ]
    }
   ],
   "source": [
    "x = lambda a : a + 10\n",
    "print(x(5))"
   ]
  },
  {
   "cell_type": "code",
   "execution_count": 19,
   "metadata": {},
   "outputs": [
    {
     "name": "stdout",
     "output_type": "stream",
     "text": [
      "30\n"
     ]
    }
   ],
   "source": [
    "x = lambda a, b, c : a + b + c + 17\n",
    "print(x(5, 6, 2))"
   ]
  },
  {
   "cell_type": "code",
   "execution_count": 20,
   "metadata": {},
   "outputs": [
    {
     "name": "stdout",
     "output_type": "stream",
     "text": [
      "125\n",
      "125\n"
     ]
    }
   ],
   "source": [
    "def cube(y):\n",
    "  return y * y * y\n",
    "print(cube(5))\n",
    "\n",
    "# using the lambda function\n",
    "lambda_cube = lambda y: y * y * y\n",
    "print(lambda_cube(5))"
   ]
  },
  {
   "cell_type": "code",
   "execution_count": 22,
   "metadata": {},
   "outputs": [
    {
     "name": "stdout",
     "output_type": "stream",
     "text": [
      "[6, 4, 5]\n"
     ]
    }
   ],
   "source": [
    "def myfunc(a):\n",
    "  return len(a)\n",
    "\n",
    "x = map(myfunc, ('Jafrin', 'Alam', 'Prima'))\n",
    "print(list(x))"
   ]
  },
  {
   "cell_type": "code",
   "execution_count": null,
   "metadata": {},
   "outputs": [
    {
     "name": "stdout",
     "output_type": "stream",
     "text": [
      "[1, 4, 9, 16, 25]\n"
     ]
    }
   ],
   "source": [
    "def square(x):\n",
    "    return x*x\n",
    "\n",
    "num = [1, 2, 3, 4, 5]\n",
    "result = list(map(square, num))\n",
    "print(result)"
   ]
  },
  {
   "cell_type": "code",
   "execution_count": null,
   "metadata": {},
   "outputs": [
    {
     "name": "stdout",
     "output_type": "stream",
     "text": [
      "[1, 4, 9, 16, 25]\n"
     ]
    }
   ],
   "source": [
    "def square(x):\n",
    "    return x * x\n",
    "\n",
    "items = input(\"Enter the values: \")\n",
    "values = items.split()\n",
    "\n",
    "nums=[]\n",
    "for value in values:\n",
    "    result = square(int(value))\n",
    "    nums.append(result)\n",
    "print(nums)"
   ]
  },
  {
   "cell_type": "code",
   "execution_count": null,
   "metadata": {},
   "outputs": [
    {
     "name": "stdout",
     "output_type": "stream",
     "text": [
      "[18, 24, 32]\n"
     ]
    }
   ],
   "source": [
    "ages = [5, 12, 17, 18, 24, 32]\n",
    "def myFunc(x):\n",
    "  if x >= 18:\n",
    "    return True\n",
    "  else:\n",
    "    return False\n",
    "\n",
    "result = list(filter(myFunc, ages))\n",
    "print(result)"
   ]
  },
  {
   "cell_type": "markdown",
   "metadata": {},
   "source": [
    "Write a program to sort by ascending order from the following list. (Create a function to solve it)\n",
    "\n",
    "List = [1, 5, 2, 9, 3, 22, 13]"
   ]
  },
  {
   "cell_type": "code",
   "execution_count": 29,
   "metadata": {},
   "outputs": [
    {
     "name": "stdout",
     "output_type": "stream",
     "text": [
      "[1, 2, 3, 5, 9, 13, 22]\n"
     ]
    }
   ],
   "source": [
    "ListItems = [1, 5, 2, 9, 3, 22, 13]\n",
    "\n",
    "def swap(arr, i, j):\n",
    "    temp = arr[i]\n",
    "    arr[i] = arr[j]\n",
    "    arr[j] = temp\n",
    "\n",
    "for i in range(len(ListItems)):\n",
    "    for j in range(i+1, len(ListItems)):\n",
    "        if ListItems[i] > ListItems[j]:\n",
    "            swap(ListItems, i, j)\n",
    "\n",
    "print(ListItems)  # Output: [1, 2, 3, 5, 9, 13, 22]"
   ]
  },
  {
   "cell_type": "code",
   "execution_count": null,
   "metadata": {},
   "outputs": [],
   "source": [
    "def hour_to_min():\n",
    "  hours = int(input(\"Enter hours: \"))\n",
    "  minutes = hours * 60\n",
    "  print(f\"{hours} hours is {minutes} minutes\")\n",
    "\n",
    "hour_to_min()"
   ]
  }
 ],
 "metadata": {
  "kernelspec": {
   "display_name": "Python 3",
   "language": "python",
   "name": "python3"
  },
  "language_info": {
   "codemirror_mode": {
    "name": "ipython",
    "version": 3
   },
   "file_extension": ".py",
   "mimetype": "text/x-python",
   "name": "python",
   "nbconvert_exporter": "python",
   "pygments_lexer": "ipython3",
   "version": "3.12.3"
  }
 },
 "nbformat": 4,
 "nbformat_minor": 2
}
