{
 "cells": [
  {
   "cell_type": "markdown",
   "metadata": {},
   "source": [
    "Object Oriented Programing (OOP)"
   ]
  },
  {
   "cell_type": "code",
   "execution_count": 3,
   "metadata": {},
   "outputs": [
    {
     "name": "stdout",
     "output_type": "stream",
     "text": [
      "ID: 221-35-889\n",
      "CGPA: 4.0\n"
     ]
    }
   ],
   "source": [
    "class student:\n",
    "    id=\"\"\n",
    "    cgpa=\"\"\n",
    "\n",
    "prima=student()\n",
    "prima.id=\"221-35-889\"\n",
    "prima.cgpa=4.00\n",
    "\n",
    "print(f\"ID: {prima.id}\\nCGPA: {prima.cgpa}\")"
   ]
  },
  {
   "cell_type": "code",
   "execution_count": 8,
   "metadata": {},
   "outputs": [
    {
     "name": "stdout",
     "output_type": "stream",
     "text": [
      "ID = 221-35-889, CGPA = 4.0\n"
     ]
    }
   ],
   "source": [
    "class student:\n",
    "    def set_value(self, a, b):\n",
    "        self.id = a\n",
    "        self.cgpa = b\n",
    "\n",
    "    def display(self):\n",
    "        print(f\"ID = {self.id}, CGPA = {self.cgpa}\")\n",
    "\n",
    "prima = student()\n",
    "\n",
    "prima.set_value(\"221-35-889\", 4.00)\n",
    "prima.display()"
   ]
  },
  {
   "cell_type": "code",
   "execution_count": 9,
   "metadata": {},
   "outputs": [
    {
     "name": "stdout",
     "output_type": "stream",
     "text": [
      "Section = A\n"
     ]
    }
   ],
   "source": [
    "class student:\n",
    "    def __init__(self):\n",
    "        self.section=\"A\"\n",
    "\n",
    "    def display(self):\n",
    "        print(f\"Section = {self.section}\")\n",
    "\n",
    "khalid = student()\n",
    "khalid.display()"
   ]
  },
  {
   "cell_type": "code",
   "execution_count": 11,
   "metadata": {},
   "outputs": [
    {
     "name": "stdout",
     "output_type": "stream",
     "text": [
      "Roll = 1, GPA = 5.0\n"
     ]
    }
   ],
   "source": [
    "class student:\n",
    "    def __init__(self, roll, gpa):\n",
    "        self.roll=roll\n",
    "        self.gpa=gpa\n",
    "\n",
    "    def display(self):\n",
    "        print(f\"Roll = {self.roll}, GPA = {self.gpa}\")\n",
    "\n",
    "Jafrin = student(1, 5.00)\n",
    "Jafrin.display()"
   ]
  },
  {
   "cell_type": "code",
   "execution_count": 13,
   "metadata": {},
   "outputs": [
    {
     "name": "stdout",
     "output_type": "stream",
     "text": [
      "Sk. Roushan Khalid\n"
     ]
    }
   ],
   "source": [
    "class Person:\n",
    "  def __init__(self, fname, lname):\n",
    "    self.firstname = fname\n",
    "    self.lastname = lname\n",
    "\n",
    "  def printname(self):\n",
    "    print(self.firstname, self.lastname)\n",
    "    \n",
    "class Student(Person):\n",
    "  pass\n",
    "y = Student(\"Sk. Roushan\", \"Khalid\")\n",
    "y.printname()\n"
   ]
  },
  {
   "cell_type": "code",
   "execution_count": 14,
   "metadata": {},
   "outputs": [
    {
     "name": "stdout",
     "output_type": "stream",
     "text": [
      "This is class A\n",
      "This is class B\n"
     ]
    }
   ],
   "source": [
    "class A:\n",
    "    def display1(self):\n",
    "        print(\"This is class A\")\n",
    "\n",
    "class B(A):\n",
    "    def display2(self):\n",
    "        print(\"This is class B\")\n",
    "\n",
    "objB = B()\n",
    "objB.display1()\n",
    "objB.display2()"
   ]
  },
  {
   "cell_type": "code",
   "execution_count": 15,
   "metadata": {},
   "outputs": [
    {
     "name": "stdout",
     "output_type": "stream",
     "text": [
      "This is class A\n",
      "This is class B\n",
      "This is class C\n"
     ]
    }
   ],
   "source": [
    "class A:\n",
    "    def display1(self):\n",
    "        print(\"This is class A\")\n",
    "\n",
    "class B:\n",
    "    def display2(self):\n",
    "        print(\"This is class B\")\n",
    "\n",
    "class C(A, B):\n",
    "    def display3(self):\n",
    "        print(\"This is class C\")\n",
    "\n",
    "objC = C()\n",
    "objC.display1()\n",
    "objC.display2()\n",
    "objC.display3()"
   ]
  },
  {
   "cell_type": "code",
   "execution_count": 16,
   "metadata": {},
   "outputs": [
    {
     "name": "stdout",
     "output_type": "stream",
     "text": [
      "This is class A\n",
      "This is class B\n",
      "This is class C\n"
     ]
    }
   ],
   "source": [
    "class A:\n",
    "    def display1(self):\n",
    "        print(\"This is class A\")\n",
    "\n",
    "class B(A):\n",
    "    def display2(self):\n",
    "        print(\"This is class B\")\n",
    "\n",
    "class C(B):\n",
    "    def display3(self):\n",
    "        print(\"This is class C\")\n",
    "\n",
    "objC = C()\n",
    "\n",
    "objC.display1()\n",
    "objC.display2()\n",
    "objC.display3()"
   ]
  },
  {
   "cell_type": "code",
   "execution_count": 17,
   "metadata": {},
   "outputs": [
    {
     "name": "stdout",
     "output_type": "stream",
     "text": [
      "This function is in parent class.\n",
      "This function is in child 1.\n",
      "This function is in parent class.\n",
      "This function is in child 2.\n"
     ]
    }
   ],
   "source": [
    "class Parent:  # Base class\n",
    "      def func1(self):\n",
    "          print(\"This function is in parent class.\")\n",
    " \n",
    "class Child1(Parent): # Derived class1\n",
    "      def func2(self):\n",
    "          print(\"This function is in child 1.\")\n",
    " \n",
    "class Child2(Parent): # Derived class2\n",
    "      def func3(self):\n",
    "          print(\"This function is in child 2.\")\n",
    "  \n",
    "# Driver's code\n",
    "object1 = Child1()\n",
    "object2 = Child2()\n",
    "object1.func1()\n",
    "object1.func2()\n",
    "object2.func1()\n",
    "object2.func3()"
   ]
  },
  {
   "cell_type": "code",
   "execution_count": 19,
   "metadata": {},
   "outputs": [
    {
     "name": "stdout",
     "output_type": "stream",
     "text": [
      "14\n",
      "3\n"
     ]
    }
   ],
   "source": [
    "#Built in Polymorphic function\n",
    "print(len(\"Aksadur Rahman\"))\n",
    "print(len([10, 20, 30]))"
   ]
  },
  {
   "cell_type": "code",
   "execution_count": 21,
   "metadata": {},
   "outputs": [
    {
     "name": "stdout",
     "output_type": "stream",
     "text": [
      "50\n",
      "60\n"
     ]
    }
   ],
   "source": [
    "#User defined Polymorphic function\n",
    "def add(x, y, z=0):\n",
    "    return x+y+z\n",
    "\n",
    "print(add(30, 20))\n",
    "print(add(10, 30, 20))"
   ]
  },
  {
   "cell_type": "markdown",
   "metadata": {},
   "source": [
    "Create a class named 'Student' with the variable 'name' and 'roll_no'. And write a Display method to display the name and roll_no. Assign the value of roll_no as '2' and that of name as \"John\" by creating an object of the class Student."
   ]
  },
  {
   "cell_type": "code",
   "execution_count": null,
   "metadata": {},
   "outputs": [
    {
     "name": "stdout",
     "output_type": "stream",
     "text": [
      "Name: John\n",
      "Roll No: 2\n"
     ]
    }
   ],
   "source": [
    "class Student:\n",
    "    def __init__(self, name, roll_no):\n",
    "        self.name = name\n",
    "        self.roll_no = roll_no\n",
    "\n",
    "    def display(self):\n",
    "        print(\"Name:\", self.name)\n",
    "        print(\"Roll No:\", self.roll_no)\n",
    "\n",
    "student1 = Student(\"John\", 2)\n",
    "student1.display()"
   ]
  }
 ],
 "metadata": {
  "kernelspec": {
   "display_name": "Python 3",
   "language": "python",
   "name": "python3"
  },
  "language_info": {
   "codemirror_mode": {
    "name": "ipython",
    "version": 3
   },
   "file_extension": ".py",
   "mimetype": "text/x-python",
   "name": "python",
   "nbconvert_exporter": "python",
   "pygments_lexer": "ipython3",
   "version": "3.12.3"
  }
 },
 "nbformat": 4,
 "nbformat_minor": 2
}
