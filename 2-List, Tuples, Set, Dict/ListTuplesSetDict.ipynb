{
 "cells": [
  {
   "cell_type": "markdown",
   "metadata": {},
   "source": [
    "List & Tuple"
   ]
  },
  {
   "cell_type": "code",
   "execution_count": 18,
   "metadata": {},
   "outputs": [
    {
     "name": "stdout",
     "output_type": "stream",
     "text": [
      "['Godzilla x Kong', 'Dune: Part Two', True, 78]\n",
      "('Godzilla x Kong', 'Dune: Part Two', False, 17)\n",
      "<class 'list'>\n",
      "<class 'tuple'>\n"
     ]
    }
   ],
   "source": [
    "List_of_movies=[\"Godzilla x Kong\", \"Dune: Part Two\", True, 78] # Mutable, Ordered\n",
    "Tuple_of_movies=(\"Godzilla x Kong\", \"Dune: Part Two\", False, 17) # Not Mutable \n",
    "print(List_of_movies)\n",
    "print(Tuple_of_movies)\n",
    "print(type(List_of_movies))\n",
    "print(type(Tuple_of_movies))"
   ]
  },
  {
   "cell_type": "code",
   "execution_count": 19,
   "metadata": {},
   "outputs": [
    {
     "name": "stdout",
     "output_type": "stream",
     "text": [
      "G\n",
      "12 Angry Men\n",
      "y\n"
     ]
    }
   ],
   "source": [
    "text = \"Glad that you're doing well.\"\n",
    "print(text[0])  # Output: G\n",
    "Tuple_of_movies = (\"The Godfather\", \"Pulp Fiction\", \"The Shawshank Redemption\", \"12 Angry Men\")\n",
    "print(Tuple_of_movies[3])  # Output: 12 Angry Men\n",
    "print(Tuple_of_movies[3][7])  # Output: y"
   ]
  },
  {
   "cell_type": "code",
   "execution_count": 20,
   "metadata": {},
   "outputs": [
    {
     "name": "stdout",
     "output_type": "stream",
     "text": [
      "['khalid', 20]\n"
     ]
    }
   ],
   "source": [
    "test_list=[\"khalid\", 17]\n",
    "# test_list[0]=test_list[0]+3   # You cannot add an integer to a string\n",
    "test_list[1]=test_list[1]+3\n",
    "\n",
    "print(test_list)"
   ]
  },
  {
   "cell_type": "markdown",
   "metadata": {},
   "source": [
    "List Slicing"
   ]
  },
  {
   "cell_type": "code",
   "execution_count": 21,
   "metadata": {},
   "outputs": [
    {
     "name": "stdout",
     "output_type": "stream",
     "text": [
      "['Apple', 'Banana']\n",
      "['Cherry', 'Mango', 'Guava']\n",
      "Guava\n",
      "['Cherry', 'Mango']\n",
      "['Apple', 'Banana', 'Cherry', 'Mango', 'Guava']\n",
      "['Apple', 'Cherry', 'Guava']\n",
      "[]\n",
      "['Apple', 'Cherry', 'Guava']\n"
     ]
    }
   ],
   "source": [
    "slicing=[\"Apple\", \"Banana\", \"Cherry\", \"Mango\", \"Guava\"]\n",
    "print(slicing[0:2])  # Output: ['Apple', 'Banana']\n",
    "print(slicing[2:])  # Output: ['Cherry', 'Mango', 'Guava']\n",
    "print(slicing[-1])  # Output: Guava\n",
    "print(slicing[-3:-1])  # Output: ['Cherry', 'Mango']\n",
    "print(slicing[0:5])  # Output: ['Apple', 'Banana', 'Cherry', 'Mango', 'Guava']\n",
    "\n",
    "# Extract every other element from index 0 to 5 (inclusive)\n",
    "print(slicing[0:5:2])  # Output: ['Apple', 'Cherry', 'Guava']\n",
    "print(slicing[-1:-2])  # Output: []\n",
    "\n",
    "print(slicing[0:5:2]) # Repeat the previous slice operation  # Output: ['Apple', 'Cherry', 'Guava']"
   ]
  },
  {
   "cell_type": "code",
   "execution_count": 22,
   "metadata": {},
   "outputs": [
    {
     "name": "stdout",
     "output_type": "stream",
     "text": [
      "['khalid', 17, 'loser', 'prima', 78, 'optimist']\n",
      "khalid\n",
      "17\n",
      "loser\n",
      "prima\n",
      "78\n",
      "optimist\n"
     ]
    }
   ],
   "source": [
    "name1=[\"khalid\", 17, \"loser\"]\n",
    "name2=[\"prima\", 78, \"optimist\"]\n",
    "name=name1+name2\n",
    "print(name)\n",
    "a,b,c,d,e,f=name\n",
    "print(a)\n",
    "print(b)\n",
    "print(c)\n",
    "print(d)\n",
    "print(e)\n",
    "print(f)"
   ]
  },
  {
   "cell_type": "markdown",
   "metadata": {},
   "source": [
    "Breakdown the List Items"
   ]
  },
  {
   "cell_type": "code",
   "execution_count": 23,
   "metadata": {},
   "outputs": [
    {
     "name": "stdout",
     "output_type": "stream",
     "text": [
      "khalid\n",
      "[17, 'loser', 'prima', 78, 'optimist']\n"
     ]
    }
   ],
   "source": [
    "myname, *rest_of_all=name\n",
    "print(myname)\n",
    "print(rest_of_all)"
   ]
  },
  {
   "cell_type": "code",
   "execution_count": 24,
   "metadata": {},
   "outputs": [
    {
     "name": "stdout",
     "output_type": "stream",
     "text": [
      "['khalid', 17, 'loser', 'prima', 78, 'optimist', 'Start', 'End', 'Hope']\n"
     ]
    }
   ],
   "source": [
    "new_name=[*name,\"Start\",\"End\",\"Hope\"]\n",
    "print(new_name)"
   ]
  },
  {
   "cell_type": "markdown",
   "metadata": {},
   "source": [
    "Comparing List Items"
   ]
  },
  {
   "cell_type": "code",
   "execution_count": 25,
   "metadata": {},
   "outputs": [
    {
     "name": "stdout",
     "output_type": "stream",
     "text": [
      "True\n"
     ]
    }
   ],
   "source": [
    "list1=[3,5,8,3,5]\n",
    "list2=[4,5,7,2]\n",
    "print(list1<list2) # The output of list1 < list2 is True because the first element of list1 (3) is less than the first element of list2 (4)."
   ]
  },
  {
   "cell_type": "markdown",
   "metadata": {},
   "source": [
    "List Methods"
   ]
  },
  {
   "cell_type": "code",
   "execution_count": 26,
   "metadata": {},
   "outputs": [
    {
     "name": "stdout",
     "output_type": "stream",
     "text": [
      "['me', 'mom', 'father']\n",
      "['jafrin', 'me', 'mom', 'father']\n",
      "['jafrin', 'a life', 'me', 'mom', 'father']\n",
      "['father', 'mom', 'me', 'a life', 'jafrin']\n",
      "a life\n",
      "['father', 'mom', 'me', 'jafrin']\n",
      "['father', 'mom', 'jafrin']\n",
      "['father', 'jafrin', 'mom']\n",
      "['mom', 'jafrin', 'father']\n",
      "1\n",
      "1\n",
      "[]\n"
     ]
    }
   ],
   "source": [
    "people=[\"me\", \"mom\"]\n",
    "people.append(\"father\")\n",
    "print(people) # used to insert an item\n",
    "\n",
    "my_people=[\"jafrin\"]\n",
    "my_people.extend(people) # used to insert a whole list\n",
    "print(my_people)\n",
    "\n",
    "my_people.insert(1,\"a life\")\n",
    "print(my_people)\n",
    "\n",
    "my_people.reverse()\n",
    "print(my_people)\n",
    "\n",
    "rem=my_people.pop(3)\n",
    "print(rem)\n",
    "print(my_people)\n",
    "\n",
    "my_people.remove(\"me\")\n",
    "print(my_people)\n",
    "\n",
    "my_people.sort()\n",
    "print(my_people)\n",
    "\n",
    "my_people.sort(reverse=True)\n",
    "print(my_people)\n",
    "\n",
    "print(my_people.index(\"jafrin\"))\n",
    "\n",
    "print(my_people.count(\"jafrin\"))\n",
    "\n",
    "my_people.clear()\n",
    "print(my_people)\n",
    "\n"
   ]
  },
  {
   "cell_type": "markdown",
   "metadata": {},
   "source": [
    "2D List / Matrix"
   ]
  },
  {
   "cell_type": "code",
   "execution_count": 27,
   "metadata": {},
   "outputs": [
    {
     "name": "stdout",
     "output_type": "stream",
     "text": [
      "4\n"
     ]
    }
   ],
   "source": [
    "matrix=[[1,5,9],[2,4,6],[3,1,3]]\n",
    "print(matrix[1][1])"
   ]
  },
  {
   "cell_type": "code",
   "execution_count": 28,
   "metadata": {},
   "outputs": [
    {
     "name": "stdout",
     "output_type": "stream",
     "text": [
      "7\n",
      "[2, 4, 6]\n",
      "3\n"
     ]
    }
   ],
   "source": [
    "my_matrix=[\n",
    "    [[9, 7], 1, 5, 9], \n",
    "    [2, 4, 6], \n",
    "    [3, 1, 3]\n",
    "]\n",
    "print(my_matrix[0][0][1])  # Output: 7\n",
    "print(my_matrix[1])  # Output: [2, 4, 6]\n",
    "print(my_matrix[2][-1])  # Output: 3"
   ]
  },
  {
   "cell_type": "markdown",
   "metadata": {},
   "source": [
    "Tuples"
   ]
  },
  {
   "cell_type": "code",
   "execution_count": 29,
   "metadata": {},
   "outputs": [
    {
     "ename": "TypeError",
     "evalue": "'tuple' object does not support item assignment",
     "output_type": "error",
     "traceback": [
      "\u001b[1;31m---------------------------------------------------------------------------\u001b[0m",
      "\u001b[1;31mTypeError\u001b[0m                                 Traceback (most recent call last)",
      "Cell \u001b[1;32mIn[29], line 2\u001b[0m\n\u001b[0;32m      1\u001b[0m my_tuple\u001b[38;5;241m=\u001b[39m(\u001b[38;5;124m\"\u001b[39m\u001b[38;5;124mapple\u001b[39m\u001b[38;5;124m\"\u001b[39m,\u001b[38;5;124m\"\u001b[39m\u001b[38;5;124mberry\u001b[39m\u001b[38;5;124m\"\u001b[39m)\n\u001b[1;32m----> 2\u001b[0m \u001b[43mmy_tuple\u001b[49m\u001b[43m[\u001b[49m\u001b[38;5;241;43m0\u001b[39;49m\u001b[43m]\u001b[49m\u001b[38;5;241m=\u001b[39m\u001b[38;5;124m\"\u001b[39m\u001b[38;5;124mbanana\u001b[39m\u001b[38;5;124m\"\u001b[39m\n\u001b[0;32m      3\u001b[0m \u001b[38;5;28mprint\u001b[39m(my_tuple) \u001b[38;5;66;03m# unchangable\u001b[39;00m\n",
      "\u001b[1;31mTypeError\u001b[0m: 'tuple' object does not support item assignment"
     ]
    }
   ],
   "source": [
    "my_tuple=(\"apple\",\"berry\")\n",
    "my_tuple[0]=\"banana\"\n",
    "print(my_tuple) # unchangable"
   ]
  },
  {
   "cell_type": "markdown",
   "metadata": {},
   "source": [
    "Set"
   ]
  },
  {
   "cell_type": "code",
   "execution_count": 11,
   "metadata": {},
   "outputs": [
    {
     "ename": "TypeError",
     "evalue": "'set' object does not support item assignment",
     "output_type": "error",
     "traceback": [
      "\u001b[1;31m---------------------------------------------------------------------------\u001b[0m",
      "\u001b[1;31mTypeError\u001b[0m                                 Traceback (most recent call last)",
      "Cell \u001b[1;32mIn[11], line 2\u001b[0m\n\u001b[0;32m      1\u001b[0m fruits\u001b[38;5;241m=\u001b[39m{\u001b[38;5;124m\"\u001b[39m\u001b[38;5;124mred\u001b[39m\u001b[38;5;124m\"\u001b[39m,\u001b[38;5;124m\"\u001b[39m\u001b[38;5;124mblue\u001b[39m\u001b[38;5;124m\"\u001b[39m,\u001b[38;5;124m\"\u001b[39m\u001b[38;5;124mgreen\u001b[39m\u001b[38;5;124m\"\u001b[39m} \u001b[38;5;66;03m#unordered, partially unchangable, unindexed and unique\u001b[39;00m\n\u001b[1;32m----> 2\u001b[0m \u001b[43mfruits\u001b[49m\u001b[43m[\u001b[49m\u001b[38;5;241;43m0\u001b[39;49m\u001b[43m]\u001b[49m\u001b[38;5;241m=\u001b[39m\u001b[38;5;124m\"\u001b[39m\u001b[38;5;124mpink\u001b[39m\u001b[38;5;124m\"\u001b[39m \u001b[38;5;66;03m#unchangable\u001b[39;00m\n\u001b[0;32m      3\u001b[0m \u001b[38;5;28mprint\u001b[39m(fruits[\u001b[38;5;241m1\u001b[39m]) \u001b[38;5;66;03m#unaccessible\u001b[39;00m\n",
      "\u001b[1;31mTypeError\u001b[0m: 'set' object does not support item assignment"
     ]
    }
   ],
   "source": [
    "fruits={\"red\",\"blue\",\"green\"} #unordered, partially unchangable, unindexed and unique\n",
    "fruits[0]=\"pink\" #unchangable\n",
    "print(fruits[1]) #unaccessible"
   ]
  },
  {
   "cell_type": "code",
   "execution_count": 13,
   "metadata": {},
   "outputs": [
    {
     "name": "stdout",
     "output_type": "stream",
     "text": [
      "{'green', 'blue', 'red'}\n"
     ]
    }
   ],
   "source": [
    "fruits={\"red\",\"blue\",\"green\",\"red\"} # doesn't support duplicate values\n",
    "print(fruits) #unordered"
   ]
  },
  {
   "cell_type": "code",
   "execution_count": 17,
   "metadata": {},
   "outputs": [
    {
     "name": "stdout",
     "output_type": "stream",
     "text": [
      "{1, 2, 3, 4, 5, 6, 7}\n",
      "{1, 2, 3, 4, 5, 6, 7}\n",
      "{4, 5}\n",
      "{4, 5}\n",
      "{1, 2, 3}\n",
      "{1, 2, 3}\n"
     ]
    }
   ],
   "source": [
    "num1={1,2,3,4,5}\n",
    "num2={4,5,6,7}\n",
    "\n",
    "print(num1|num2)\n",
    "print(num1.union(num2))\n",
    "\n",
    "print(num1&num2)\n",
    "print(num1.intersection(num2))\n",
    "\n",
    "print(num1-num2)\n",
    "print(num1.difference(num2))"
   ]
  },
  {
   "cell_type": "markdown",
   "metadata": {},
   "source": [
    "Iteration"
   ]
  },
  {
   "cell_type": "code",
   "execution_count": 31,
   "metadata": {},
   "outputs": [
    {
     "name": "stdout",
     "output_type": "stream",
     "text": [
      "green\n",
      "blue\n",
      "red\n"
     ]
    }
   ],
   "source": [
    "fruits={\"red\",\"blue\",\"green\",\"red\"}\n",
    "for i in fruits:\n",
    "    print(i)"
   ]
  },
  {
   "cell_type": "markdown",
   "metadata": {},
   "source": [
    "Dictionary"
   ]
  },
  {
   "cell_type": "code",
   "execution_count": 33,
   "metadata": {},
   "outputs": [
    {
     "name": "stdout",
     "output_type": "stream",
     "text": [
      "<class 'dict'>\n",
      "221-35-889\n"
     ]
    }
   ],
   "source": [
    "student={\n",
    "    \"name\":\"jafrin\",\n",
    "    \"id\":\"221-35-889\",\n",
    "    \"batch\":37\n",
    "}\n",
    "\n",
    "print(type(student))\n",
    "print(student[\"id\"])"
   ]
  },
  {
   "cell_type": "code",
   "execution_count": 36,
   "metadata": {},
   "outputs": [
    {
     "ename": "KeyError",
     "evalue": "'workplace'",
     "output_type": "error",
     "traceback": [
      "\u001b[1;31m---------------------------------------------------------------------------\u001b[0m",
      "\u001b[1;31mKeyError\u001b[0m                                  Traceback (most recent call last)",
      "Cell \u001b[1;32mIn[36], line 1\u001b[0m\n\u001b[1;32m----> 1\u001b[0m \u001b[38;5;28mprint\u001b[39m(\u001b[43mstudent\u001b[49m\u001b[43m[\u001b[49m\u001b[38;5;124;43m\"\u001b[39;49m\u001b[38;5;124;43mworkplace\u001b[39;49m\u001b[38;5;124;43m\"\u001b[39;49m\u001b[43m]\u001b[49m)\n",
      "\u001b[1;31mKeyError\u001b[0m: 'workplace'"
     ]
    }
   ],
   "source": [
    "print(student[\"workplace\"])"
   ]
  },
  {
   "cell_type": "code",
   "execution_count": 40,
   "metadata": {},
   "outputs": [
    {
     "name": "stdout",
     "output_type": "stream",
     "text": [
      "None\n"
     ]
    }
   ],
   "source": [
    "print(student.get(\"workplace\"))"
   ]
  },
  {
   "cell_type": "code",
   "execution_count": 41,
   "metadata": {},
   "outputs": [
    {
     "name": "stdout",
     "output_type": "stream",
     "text": [
      "Amazon\n"
     ]
    }
   ],
   "source": [
    "print(student.get(\"workplace\",\"Amazon\"))"
   ]
  },
  {
   "cell_type": "code",
   "execution_count": 43,
   "metadata": {},
   "outputs": [
    {
     "name": "stdout",
     "output_type": "stream",
     "text": [
      "Google\n"
     ]
    }
   ],
   "source": [
    "student={\n",
    "    \"name\":\"jafrin\",\n",
    "    \"id\":\"221-35-889\",\n",
    "    \"batch\":37,\n",
    "    \"workplace\":\"Google\"\n",
    "}\n",
    "print(student.get(\"workplace\",\"Amazon\"))"
   ]
  },
  {
   "cell_type": "code",
   "execution_count": 47,
   "metadata": {},
   "outputs": [
    {
     "name": "stdout",
     "output_type": "stream",
     "text": [
      "dict_items([('name', 'jafrin'), ('id', '221-35-889'), ('batch', 37), ('workplace', 'Google')])\n",
      "4\n",
      "dict_values(['jafrin', '221-35-889', 37, 'Google'])\n",
      "dict_keys(['name', 'id', 'batch', 'workplace'])\n"
     ]
    }
   ],
   "source": [
    "print(student.items())\n",
    "print(len(student.items()))\n",
    "print(student.values())\n",
    "print(student.keys())"
   ]
  },
  {
   "cell_type": "code",
   "execution_count": 50,
   "metadata": {},
   "outputs": [
    {
     "name": "stdout",
     "output_type": "stream",
     "text": [
      "['name', 'id', 'batch', 'workplace']\n",
      "('jafrin', '221-35-889', 37, 'Google')\n",
      "{'id', 'name', 'workplace', 'batch'}\n"
     ]
    }
   ],
   "source": [
    "print(list(student))\n",
    "print(tuple(student.values()))\n",
    "print(set(student))\n"
   ]
  },
  {
   "cell_type": "code",
   "execution_count": 51,
   "metadata": {},
   "outputs": [
    {
     "name": "stdout",
     "output_type": "stream",
     "text": [
      "{'name': 'jafrin', 'id': '221-35-889', 'batch': 37, 'workplace': 'Toptal', 'position': 'Data Scientist'}\n"
     ]
    }
   ],
   "source": [
    "student={\n",
    "    \"name\":\"jafrin\",\n",
    "    \"id\":\"221-35-889\",\n",
    "    \"batch\":37,\n",
    "    \"workplace\":\"Google\"\n",
    "}\n",
    "update_dict={\n",
    "    \"workplace\":\"Toptal\",\n",
    "    \"position\":\"Data Scientist\"\n",
    "}\n",
    "student.update(update_dict)\n",
    "print(student)"
   ]
  },
  {
   "cell_type": "code",
   "execution_count": 54,
   "metadata": {},
   "outputs": [
    {
     "name": "stdout",
     "output_type": "stream",
     "text": [
      "name\n",
      "id\n",
      "batch\n",
      "workplace\n",
      "position\n",
      "jafrin\n",
      "221-35-889\n",
      "37\n",
      "Toptal\n",
      "Data Scientist\n",
      "('name', 'jafrin')\n",
      "('id', '221-35-889')\n",
      "('batch', 37)\n",
      "('workplace', 'Toptal')\n",
      "('position', 'Data Scientist')\n"
     ]
    }
   ],
   "source": [
    "for i in student:\n",
    "    print(i)\n",
    "    \n",
    "for i in student.values():\n",
    "    print(i)\n",
    "    \n",
    "for i in student.items():\n",
    "    print(i)"
   ]
  },
  {
   "cell_type": "markdown",
   "metadata": {},
   "source": [
    "Range"
   ]
  },
  {
   "cell_type": "code",
   "execution_count": 58,
   "metadata": {},
   "outputs": [
    {
     "name": "stdout",
     "output_type": "stream",
     "text": [
      "[0, 1, 2, 3, 4, 5, 6, 7, 8]\n",
      "(0, 1, 2, 3, 4, 5, 6, 7, 8)\n",
      "{0, 1, 2, 3, 4, 5, 6, 7, 8}\n"
     ]
    }
   ],
   "source": [
    "range_value=range(0,9)\n",
    "print(list((range_value)))\n",
    "print(tuple((range_value)))\n",
    "print(set((range_value)))"
   ]
  },
  {
   "cell_type": "code",
   "execution_count": 59,
   "metadata": {},
   "outputs": [
    {
     "name": "stdout",
     "output_type": "stream",
     "text": [
      "[0, 2, 4, 6, 8]\n"
     ]
    }
   ],
   "source": [
    "range_value=range(0,9,2)\n",
    "print(list((range_value)))"
   ]
  },
  {
   "cell_type": "markdown",
   "metadata": {},
   "source": [
    "Classworks of NF"
   ]
  },
  {
   "cell_type": "code",
   "execution_count": 62,
   "metadata": {},
   "outputs": [
    {
     "name": "stdout",
     "output_type": "stream",
     "text": [
      "You have won\n"
     ]
    }
   ],
   "source": [
    "actual_price=10\n",
    "guess_count=0\n",
    "guess_limit=5\n",
    "while guess_count<guess_limit:\n",
    "    guess_price=int(input(\"Guess the price:\"))\n",
    "    guess_count+=1\n",
    "    if guess_price==actual_price:\n",
    "        print(\"You have won\")\n",
    "        break\n",
    "else:\n",
    "  print(\"You have lost\")"
   ]
  },
  {
   "cell_type": "code",
   "execution_count": 63,
   "metadata": {},
   "outputs": [
    {
     "name": "stdout",
     "output_type": "stream",
     "text": [
      "rice\n",
      "oil\n",
      "egg\n",
      "salt\n",
      "p\n",
      "y\n",
      "t\n",
      "h\n",
      "o\n",
      "n\n",
      "1\n",
      "2\n",
      "3\n",
      "4\n",
      "5\n",
      "1\n",
      "2\n",
      "3\n",
      "4\n",
      "5\n",
      "6\n",
      "7\n",
      "8\n",
      "9\n",
      "10\n",
      "1\n",
      "3\n",
      "5\n",
      "7\n",
      "9\n",
      "60\n"
     ]
    }
   ],
   "source": [
    "list=[\"rice\",\"oil\",\"egg\",\"salt\"]\n",
    "for i in list:\n",
    "    print(i, sep=' ', end='\\n')\n",
    "for char in \"python\":\n",
    "    print(char, sep=' ', end='\\n')\n",
    "for num in [1,2,3,4,5]:\n",
    "  print(num, sep=' ', end='\\n')\n",
    "#\n",
    "for x in range(1,10+1):\n",
    "    print(x, sep=' ', end='\\n')\n",
    "for x in range(1,10+1,2):\n",
    "    print(x, sep=' ', end='\\n')\n",
    "bills=[10,20,30]\n",
    "total=0\n",
    "for bill in bills:\n",
    "    total+=bill\n",
    "print(total, sep=' ', end='\\n')"
   ]
  },
  {
   "cell_type": "code",
   "execution_count": 64,
   "metadata": {},
   "outputs": [
    {
     "name": "stdout",
     "output_type": "stream",
     "text": [
      "(1,1)\n",
      "(1,2)\n",
      "(1,3)\n",
      "(1,4)\n",
      "(2,1)\n",
      "(2,2)\n",
      "(2,3)\n",
      "(2,4)\n",
      "(3,1)\n",
      "(3,2)\n",
      "(3,3)\n",
      "(3,4)\n",
      "(4,1)\n",
      "(4,2)\n",
      "(4,3)\n",
      "(4,4)\n"
     ]
    }
   ],
   "source": [
    "for i in range(1,5):\n",
    "    for j in range(1,5):\n",
    "        print(f\"({i},{j})\")"
   ]
  },
  {
   "cell_type": "code",
   "execution_count": 65,
   "metadata": {},
   "outputs": [
    {
     "name": "stdout",
     "output_type": "stream",
     "text": [
      "15\n"
     ]
    }
   ],
   "source": [
    "price=[5,10,15,1,3,7]\n",
    "big=-1\n",
    "for i in price:\n",
    "  if big<i:\n",
    "    big=i\n",
    "print(big)"
   ]
  },
  {
   "cell_type": "code",
   "execution_count": 66,
   "metadata": {},
   "outputs": [
    {
     "name": "stdout",
     "output_type": "stream",
     "text": [
      "1\n",
      "2\n",
      "3\n",
      "4\n",
      "5\n",
      "6\n",
      "7\n",
      "8\n",
      "9\n"
     ]
    }
   ],
   "source": [
    "matrix=[\n",
    "    [1,2,3],\n",
    "    [4,5,6],\n",
    "    [7,8,9]\n",
    "]\n",
    "for i in matrix:\n",
    "  for j in i:\n",
    "    print(j)"
   ]
  },
  {
   "cell_type": "code",
   "execution_count": 67,
   "metadata": {},
   "outputs": [
    {
     "name": "stdout",
     "output_type": "stream",
     "text": [
      "[1, 2, 3, 4, 5, 5, 7, 8, 5, 10, 99]\n",
      "[99, 1, 2, 3, 4, 5, 5, 7, 8, 5, 10, 99]\n",
      "[99, 1, 3, 4, 5, 5, 7, 8, 5, 10, 99]\n",
      "[1, 3, 4, 5, 5, 5, 7, 8, 10, 99, 99]\n",
      "[99, 99, 10, 8, 7, 5, 5, 5, 4, 3, 1]\n",
      "True\n",
      "[99, 10, 8, 7, 5, 4, 3, 1]\n"
     ]
    }
   ],
   "source": [
    "number=[1,2,3,4,5,5,7,8,5,10]\n",
    "number.append(99)\n",
    "print(number)\n",
    "number.insert(0,99)\n",
    "print(number)\n",
    "number.remove(2)#2\n",
    "print(number)\n",
    "number.sort()\n",
    "print(number)\n",
    "number.reverse()\n",
    "print(number)\n",
    "print(10 in number)\n",
    "uniques=[]\n",
    "for i in number:\n",
    "  if i not in uniques:\n",
    "    uniques.append(i)\n",
    "print(uniques)"
   ]
  },
  {
   "cell_type": "markdown",
   "metadata": {},
   "source": [
    "Write a program to make another list of duplicate elements from the following list : [1, 5, 6, 5, 1, 2, 3]"
   ]
  },
  {
   "cell_type": "code",
   "execution_count": null,
   "metadata": {},
   "outputs": [
    {
     "name": "stdout",
     "output_type": "stream",
     "text": [
      "{1, 5}\n"
     ]
    }
   ],
   "source": [
    "my_list = [1, 5, 6, 5, 1, 2, 3]\n",
    "duplicates = []\n",
    "\n",
    "for i in range(len(my_list)):\n",
    "  for j in range(i+1, len(my_list)):\n",
    "    if my_list[i] == my_list[j]:\n",
    "      duplicates.append(my_list[i])\n",
    "      break\n",
    "\n",
    "print(set(duplicates))  # Output: {1, 5}"
   ]
  }
 ],
 "metadata": {
  "kernelspec": {
   "display_name": "Python 3",
   "language": "python",
   "name": "python3"
  },
  "language_info": {
   "codemirror_mode": {
    "name": "ipython",
    "version": 3
   },
   "file_extension": ".py",
   "mimetype": "text/x-python",
   "name": "python",
   "nbconvert_exporter": "python",
   "pygments_lexer": "ipython3",
   "version": "3.12.3"
  }
 },
 "nbformat": 4,
 "nbformat_minor": 2
}
