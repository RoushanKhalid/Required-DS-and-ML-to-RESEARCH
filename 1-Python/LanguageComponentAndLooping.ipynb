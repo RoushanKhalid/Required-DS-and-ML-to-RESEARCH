{
 "cells": [
  {
   "cell_type": "markdown",
   "metadata": {},
   "source": [
    "Precedence (BODMAS)"
   ]
  },
  {
   "cell_type": "code",
   "execution_count": 8,
   "metadata": {},
   "outputs": [
    {
     "name": "stdout",
     "output_type": "stream",
     "text": [
      "67\n",
      "2.5\n"
     ]
    }
   ],
   "source": [
    "print(10+3*2**2+45)\n",
    "print(5/2+2**4%2) # left to write"
   ]
  },
  {
   "cell_type": "markdown",
   "metadata": {},
   "source": [
    "Math Functions and Modules"
   ]
  },
  {
   "cell_type": "code",
   "execution_count": 9,
   "metadata": {},
   "outputs": [
    {
     "name": "stdout",
     "output_type": "stream",
     "text": [
      "2\n",
      "2\n",
      "3\n"
     ]
    }
   ],
   "source": [
    "print(round(2.2))\n",
    "print(round(2.5)) # important fact\n",
    "print(round(2.7))"
   ]
  },
  {
   "cell_type": "code",
   "execution_count": 10,
   "metadata": {},
   "outputs": [
    {
     "name": "stdout",
     "output_type": "stream",
     "text": [
      "1\n",
      "2\n"
     ]
    }
   ],
   "source": [
    "print(abs(-48+83-36)) # -1\n",
    "print(abs(2**3-10)) # -2"
   ]
  },
  {
   "cell_type": "code",
   "execution_count": 11,
   "metadata": {},
   "outputs": [
    {
     "name": "stdout",
     "output_type": "stream",
     "text": [
      "9\n",
      "9\n"
     ]
    }
   ],
   "source": [
    "import math\n",
    "print(math.ceil(8.1))\n",
    "print(math.floor(9.8))"
   ]
  },
  {
   "cell_type": "markdown",
   "metadata": {},
   "source": [
    "Operators"
   ]
  },
  {
   "cell_type": "code",
   "execution_count": 12,
   "metadata": {},
   "outputs": [],
   "source": [
    "a=(10+20) #assignment "
   ]
  },
  {
   "cell_type": "code",
   "execution_count": 13,
   "metadata": {},
   "outputs": [
    {
     "name": "stdout",
     "output_type": "stream",
     "text": [
      "False\n",
      "True\n",
      "False\n",
      "True\n",
      "False\n",
      "True\n"
     ]
    }
   ],
   "source": [
    "print(5==2) #boolean \n",
    "print(5>=2)\n",
    "print(True and False)\n",
    "print(True or False)\n",
    "print(False and False)\n",
    "print(True and True)"
   ]
  },
  {
   "cell_type": "markdown",
   "metadata": {},
   "source": [
    "Decision Making"
   ]
  },
  {
   "cell_type": "code",
   "execution_count": 14,
   "metadata": {},
   "outputs": [
    {
     "name": "stdout",
     "output_type": "stream",
     "text": [
      "Another world\n"
     ]
    }
   ],
   "source": [
    "days=371\n",
    "match days:\n",
    "    case 1:\n",
    "        print(\"Jafrin\")\n",
    "    case 2:\n",
    "        print(\"Alam\")\n",
    "    case 3:\n",
    "        print(\"Prima\")\n",
    "    case _:\n",
    "        print(\"Another world\")"
   ]
  },
  {
   "cell_type": "code",
   "execution_count": 15,
   "metadata": {},
   "outputs": [
    {
     "name": "stdout",
     "output_type": "stream",
     "text": [
      "19 is the biggest.\n"
     ]
    }
   ],
   "source": [
    "num1=12\n",
    "num2=19\n",
    "num3=16\n",
    "if(num1>num2 and num1>num3):\n",
    "    print(num1,\"is the biggest.\")\n",
    "elif(num2>num1 and num2>num3):\n",
    "    print(num2,\"is the biggest.\")\n",
    "else:\n",
    "    print(num3,\"is the biggest.\")"
   ]
  },
  {
   "cell_type": "markdown",
   "metadata": {},
   "source": [
    "Looping"
   ]
  },
  {
   "cell_type": "code",
   "execution_count": 19,
   "metadata": {},
   "outputs": [
    {
     "name": "stdout",
     "output_type": "stream",
     "text": [
      "SJRAKP\n",
      "SJRAKP\n",
      "SJRAKP\n",
      "SJRAKP\n",
      "SJRAKP\n"
     ]
    }
   ],
   "source": [
    "count=0\n",
    "while count<5:\n",
    "    print(\"SJRAKP\")\n",
    "    count+=1"
   ]
  },
  {
   "cell_type": "code",
   "execution_count": 24,
   "metadata": {},
   "outputs": [
    {
     "name": "stdout",
     "output_type": "stream",
     "text": [
      "The sum is 15\n"
     ]
    }
   ],
   "source": [
    "num=int(input(\"Enter the limit: \")) # 5\n",
    "value=0\n",
    "while num>0:\n",
    "    value+=num # sum of (1 to num)\n",
    "    num-=1\n",
    "print(\"The sum is\",value)"
   ]
  },
  {
   "cell_type": "code",
   "execution_count": 26,
   "metadata": {},
   "outputs": [
    {
     "name": "stdout",
     "output_type": "stream",
     "text": [
      "The mul is 120\n"
     ]
    }
   ],
   "source": [
    "new_num=int(input(\"Enter the limit: \")) # 5\n",
    "count=1\n",
    "while new_num>0:\n",
    "    count*=new_num\n",
    "    new_num-=1\n",
    "print(\"The mul is\",count)\n",
    "    "
   ]
  },
  {
   "cell_type": "code",
   "execution_count": 32,
   "metadata": {},
   "outputs": [
    {
     "name": "stdout",
     "output_type": "stream",
     "text": [
      "The mul is 504\n"
     ]
    }
   ],
   "source": [
    "new_num=int(input(\"Enter the limit: \")) # 9\n",
    "count=1\n",
    "while new_num>0:\n",
    "    count*=new_num\n",
    "    if count>=371:\n",
    "        break\n",
    "    new_num-=1\n",
    "print(\"The mul is\",count)\n",
    "    "
   ]
  },
  {
   "cell_type": "code",
   "execution_count": 36,
   "metadata": {},
   "outputs": [
    {
     "name": "stdout",
     "output_type": "stream",
     "text": [
      "1\n",
      "2\n",
      "3\n",
      "4\n",
      "5\n",
      "6\n",
      "8\n",
      "9\n",
      "10\n"
     ]
    }
   ],
   "source": [
    "num = 1\n",
    "while num <= 10:\n",
    "    if num == 7:\n",
    "        num += 1\n",
    "        continue\n",
    "    print(num)\n",
    "    num += 1"
   ]
  },
  {
   "cell_type": "code",
   "execution_count": 43,
   "metadata": {},
   "outputs": [
    {
     "name": "stdout",
     "output_type": "stream",
     "text": [
      "Result is 60\n"
     ]
    }
   ],
   "source": [
    "result=0\n",
    "flow=1\n",
    "while True:\n",
    "    val=int(input(\"Enter the number: \")) # 6 5 2 0\n",
    "    if val==0:\n",
    "        break\n",
    "    flow*=val\n",
    "    result=flow\n",
    "print(\"Result is\",result)\n",
    "    "
   ]
  }
 ],
 "metadata": {
  "kernelspec": {
   "display_name": "Python 3",
   "language": "python",
   "name": "python3"
  },
  "language_info": {
   "codemirror_mode": {
    "name": "ipython",
    "version": 3
   },
   "file_extension": ".py",
   "mimetype": "text/x-python",
   "name": "python",
   "nbconvert_exporter": "python",
   "pygments_lexer": "ipython3",
   "version": "3.12.3"
  }
 },
 "nbformat": 4,
 "nbformat_minor": 2
}
