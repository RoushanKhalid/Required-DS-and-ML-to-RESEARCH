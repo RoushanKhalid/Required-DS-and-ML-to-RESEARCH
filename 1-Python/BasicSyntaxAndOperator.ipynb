{
 "cells": [
  {
   "cell_type": "markdown",
   "metadata": {},
   "source": [
    "Print Function"
   ]
  },
  {
   "cell_type": "code",
   "execution_count": 101,
   "metadata": {},
   "outputs": [
    {
     "name": "stdout",
     "output_type": "stream",
     "text": [
      "Hello, World\n"
     ]
    }
   ],
   "source": [
    "print(\"Hello, World\")"
   ]
  },
  {
   "cell_type": "markdown",
   "metadata": {},
   "source": [
    "Variable, It's Types and Some Basic Operations"
   ]
  },
  {
   "cell_type": "code",
   "execution_count": 102,
   "metadata": {},
   "outputs": [
    {
     "name": "stdout",
     "output_type": "stream",
     "text": [
      "10\n",
      "15.999\n",
      "a+b\n",
      "25.999000000000002\n",
      "(2+3j)\n",
      "(2+3j)\n"
     ]
    }
   ],
   "source": [
    "a=10\n",
    "b=20\n",
    "b=15.999 # always pick the updated value stored in variable\n",
    "complex_value_01=complex(2,3) # complex value: method 01\n",
    "complex_value_02=2+3j # complex value: method 02\n",
    "print(a)\n",
    "print(b)\n",
    "print(\"a+b\") # text type (string)\n",
    "print(a+b) # numeric type (int, float etc)\n",
    "print(complex_value_01)\n",
    "print(complex_value_02)\n"
   ]
  },
  {
   "cell_type": "code",
   "execution_count": 103,
   "metadata": {},
   "outputs": [
    {
     "name": "stdout",
     "output_type": "stream",
     "text": [
      "Jafrin AlamPrima\n",
      "('Jafrin Alam', 'Prima')\n",
      "Jafrin Alam Prima\n"
     ]
    }
   ],
   "source": [
    "f_name=\"Jafrin Alam\"\n",
    "l_name=\"Prima\"\n",
    "name=f_name+l_name # stored at a 'variable' without spacing\n",
    "print(name)\n",
    "name=f_name,l_name # stored at a 'set' with it's typical order\n",
    "print(name)\n",
    "print(f_name,l_name) # printed two variables with a space. ',' adds an additional space where '+' doesn't. We can print them by mentioning the names but in case we store them, it will be stored as a set value. "
   ]
  },
  {
   "cell_type": "code",
   "execution_count": 104,
   "metadata": {},
   "outputs": [
    {
     "name": "stdout",
     "output_type": "stream",
     "text": [
      "<class 'int'>\n",
      "<class 'float'>\n",
      "<class 'str'>\n",
      "<class 'bool'>\n",
      "<class 'complex'>\n"
     ]
    }
   ],
   "source": [
    "abc=17\n",
    "pi=3.14159\n",
    "xyz=\"Death\"\n",
    "me=False\n",
    "com=complex(9,7)\n",
    "print(type(abc))\n",
    "print(type(pi))\n",
    "print(type(xyz))\n",
    "print(type(me))\n",
    "print(type(com))"
   ]
  },
  {
   "cell_type": "markdown",
   "metadata": {},
   "source": [
    "Inputting, Explicit and Implicit Conversion"
   ]
  },
  {
   "cell_type": "code",
   "execution_count": 105,
   "metadata": {},
   "outputs": [
    {
     "name": "stdout",
     "output_type": "stream",
     "text": [
      "Hi Jafrin Alam Prima !\n",
      "As per the given input, you are 23 years old, you belongs to the Gaibandha city and you works as a Data Scientist at Google.\n"
     ]
    }
   ],
   "source": [
    "name=input(\"Enter your name: \")\n",
    "age=input(\"Enter your age: \")\n",
    "hometown=input(\"Enter your hometown: \")\n",
    "profession=input(\"Enter your profession: \")\n",
    "\n",
    "print(\"Hi\",name,\"!\\nAs per the given input, you are\",age, \"years old, you belongs to the\",hometown,\"city and you works as a\",profession,\"at Google.\")"
   ]
  },
  {
   "cell_type": "code",
   "execution_count": 108,
   "metadata": {},
   "outputs": [
    {
     "name": "stdout",
     "output_type": "stream",
     "text": [
      "The sum value is: 1556\n"
     ]
    }
   ],
   "source": [
    "num1=input(\"Enter first value: \") # 15 (input as a string)\n",
    "num2=input(\"Enter second value: \") # 56 (input as a string)\n",
    "num=num1+num2\n",
    "print(\"The sum value is:\",num) # output 1565; as it stored as a string"
   ]
  },
  {
   "cell_type": "code",
   "execution_count": 107,
   "metadata": {},
   "outputs": [
    {
     "name": "stdout",
     "output_type": "stream",
     "text": [
      "The sum value is: 71\n"
     ]
    }
   ],
   "source": [
    "num1=int(input(\"Enter first value: \"))  \n",
    "num2=int(input(\"Enter second value: \"))\n",
    "num=num1+num2\n",
    "# Another way to convert the input string to integer\n",
    "num1=int(num1)\n",
    "num2=int(num2)\n",
    "num=num1+num2\n",
    "print(\"The sum value is:\",num) # Output 71"
   ]
  },
  {
   "cell_type": "code",
   "execution_count": 109,
   "metadata": {},
   "outputs": [
    {
     "name": "stdout",
     "output_type": "stream",
     "text": [
      "8.14\n",
      "<class 'float'>\n",
      "8\n",
      "<class 'int'>\n"
     ]
    }
   ],
   "source": [
    "x=5 # integer\n",
    "y=3.14 # float\n",
    "# Implicit casting: Integer is converted to float for addition\n",
    "result=x+y\n",
    "print(result) # Output: 8.14 (float)\n",
    "print(type(result))\n",
    "\n",
    "# Explicit casting: Float is converted to integer\n",
    "result=x+int(y)\n",
    "print(result) # Output: 3 (integer)\n",
    "print(type(result))"
   ]
  },
  {
   "cell_type": "markdown",
   "metadata": {},
   "source": [
    "String, Sub-String & Slicing"
   ]
  },
  {
   "cell_type": "code",
   "execution_count": 119,
   "metadata": {},
   "outputs": [
    {
     "name": "stdout",
     "output_type": "stream",
     "text": [
      "Jafrin Alam Prima\n",
      "P\n",
      "Jafrin Alam Prima\n",
      "Prima\n",
      "Prima\n",
      "Jafrin Alam\n",
      "Jafrin Alam Prima\n"
     ]
    }
   ],
   "source": [
    "name=\"Jafrin Alam Prima\"\n",
    "print(name)\n",
    "print(name[12])\n",
    "print(name[0:17])\n",
    "print(name[12:17])\n",
    "print(name[12:])\n",
    "print(name[:-6])\n",
    "print(name[:])"
   ]
  },
  {
   "cell_type": "markdown",
   "metadata": {},
   "source": [
    "Arithmetic Operators"
   ]
  },
  {
   "cell_type": "code",
   "execution_count": 120,
   "metadata": {},
   "outputs": [
    {
     "name": "stdout",
     "output_type": "stream",
     "text": [
      "7\n",
      "3\n",
      "10\n",
      "2.5\n",
      "1\n",
      "25\n",
      "2\n"
     ]
    }
   ],
   "source": [
    "print(5+2)\n",
    "print(5-2)\n",
    "print(5*2)\n",
    "print(5/2)\n",
    "print(5%2)\n",
    "print(5**2)\n",
    "print(5//2)"
   ]
  }
 ],
 "metadata": {
  "kernelspec": {
   "display_name": "Python 3",
   "language": "python",
   "name": "python3"
  },
  "language_info": {
   "codemirror_mode": {
    "name": "ipython",
    "version": 3
   },
   "file_extension": ".py",
   "mimetype": "text/x-python",
   "name": "python",
   "nbconvert_exporter": "python",
   "pygments_lexer": "ipython3",
   "version": "3.12.3"
  }
 },
 "nbformat": 4,
 "nbformat_minor": 2
}
